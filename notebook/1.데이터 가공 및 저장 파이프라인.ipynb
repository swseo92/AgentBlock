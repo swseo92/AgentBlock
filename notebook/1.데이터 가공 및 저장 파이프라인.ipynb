{
 "cells": [
  {
   "cell_type": "code",
   "execution_count": 1,
   "id": "8e8d7874-861a-4850-8777-cdfd20c71053",
   "metadata": {},
   "outputs": [],
   "source": [
    "from agentblock.graph_builder import GraphBuilder\n",
    "from agentblock.sample_data.tools import get_sample_data\n",
    "from dotenv import load_dotenv\n",
    "\n",
    "load_dotenv()\n",
    "\n",
    "path_yaml = \"simple_pipeline.yaml\"\n",
    "path_sample_pdf = get_sample_data(\"pdf/공매도 재개의 증시 영향.pdf\")"
   ]
  },
  {
   "cell_type": "code",
   "execution_count": 2,
   "id": "955f0ae4-2cec-4837-ae6d-423fb754e496",
   "metadata": {},
   "outputs": [
    {
     "name": "stderr",
     "output_type": "stream",
     "text": [
      "C:\\Users\\wkwek\\PycharmProjects\\AgentBlock\\src\\agentblock\\embedding\\embedding_reference.py:47: LangChainDeprecationWarning: The class `OpenAIEmbeddings` was deprecated in LangChain 0.0.9 and will be removed in 1.0. An updated version of the class exists in the :class:`~langchain-openai package and should be used instead. To use it run `pip install -U :class:`~langchain-openai` and import as `from :class:`~langchain_openai import OpenAIEmbeddings``.\n",
      "  self._embedding = OpenAIEmbeddings(**param_dict)\n"
     ]
    }
   ],
   "source": [
    "pipeline_graph = GraphBuilder(path_yaml)\n",
    "pipeline = pipeline_graph.build()"
   ]
  },
  {
   "cell_type": "code",
   "execution_count": 3,
   "id": "62cc2c2f-186c-4de9-a305-c7d3b8925166",
   "metadata": {},
   "outputs": [
    {
     "data": {
      "image/png": "[encoded data removed]",
      "text/plain": [
       "<langgraph.graph.state.CompiledStateGraph object at 0x000001D5C6B4C150>"
      ]
     },
     "execution_count": 3,
     "metadata": {},
     "output_type": "execute_result"
    }
   ],
   "source": [
    "pipeline"
   ]
  },
  {
   "cell_type": "code",
   "execution_count": 4,
   "id": "05916724-0b9f-4370-bb71-55dd734a4e20",
   "metadata": {},
   "outputs": [
    {
     "name": "stderr",
     "output_type": "stream",
     "text": [
      "Failed to multipart ingest runs: langsmith.utils.LangSmithRateLimitError: Rate limit exceeded for https://api.smith.langchain.com/runs/multipart. HTTPError('429 Client Error: Too Many Requests for url: https://api.smith.langchain.com/runs/multipart', '{\"error\":\"Too many requests: tenant exceeded usage limits: Monthly unique traces usage limit exceeded\"}\\n')trace=f78d0af1-99ea-422f-bb39-40599395727e,id=f78d0af1-99ea-422f-bb39-40599395727e; trace=f78d0af1-99ea-422f-bb39-40599395727e,id=d4009d43-4c8b-4858-ba5e-ce522506b427; trace=f78d0af1-99ea-422f-bb39-40599395727e,id=807d84b7-0128-48cf-9476-ba38680cd2f9; trace=f78d0af1-99ea-422f-bb39-40599395727e,id=791e897f-9550-4dd1-a2f8-6117d1e63db0; trace=f78d0af1-99ea-422f-bb39-40599395727e,id=77288cee-7ef4-4716-beb8-26b910591cf3\n",
      "Failed to send compressed multipart ingest: langsmith.utils.LangSmithRateLimitError: Rate limit exceeded for https://api.smith.langchain.com/runs/multipart. HTTPError('429 Client Error: Too Many Requests for url: https://api.smith.langchain.com/runs/multipart', '{\"error\":\"Too many requests: tenant exceeded usage limits: Monthly unique traces usage limit exceeded\"}\\n')\n"
     ]
    },
    {
     "data": {
      "text/plain": [
       "{'status': 'saved', 'num_docs': 6, 'path_save': 'faiss_index.bin'}"
      ]
     },
     "execution_count": 4,
     "metadata": {},
     "output_type": "execute_result"
    },
    {
     "name": "stderr",
     "output_type": "stream",
     "text": [
      "Failed to send compressed multipart ingest: langsmith.utils.LangSmithRateLimitError: Rate limit exceeded for https://api.smith.langchain.com/runs/multipart. HTTPError('429 Client Error: Too Many Requests for url: https://api.smith.langchain.com/runs/multipart', '{\"error\":\"Too many requests: tenant exceeded usage limits: Monthly unique traces usage limit exceeded\"}\\n')\n"
     ]
    }
   ],
   "source": [
    "state = {\"file_path\": path_sample_pdf}\n",
    "result = pipeline.invoke(state)\n",
    "result['result']"
   ]
  },
  {
   "cell_type": "code",
   "execution_count": null,
   "id": "f1ba3a41-0ed1-4f8d-9fa1-98c7da57b06b",
   "metadata": {},
   "outputs": [],
   "source": []
  }
 ],
 "metadata": {
  "kernelspec": {
   "display_name": "Python 3 (ipykernel)",
   "language": "python",
   "name": "python3"
  },
  "language_info": {
   "codemirror_mode": {
    "name": "ipython",
    "version": 3
   },
   "file_extension": ".py",
   "mimetype": "text/x-python",
   "name": "python",
   "nbconvert_exporter": "python",
   "pygments_lexer": "ipython3",
   "version": "3.11.9"
  }
 },
 "nbformat": 4,
 "nbformat_minor": 5
}
